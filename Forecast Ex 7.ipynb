{
 "cells": [
  {
   "cell_type": "markdown",
   "metadata": {},
   "source": [
    "# Forecasting: Principles and Practice\n",
    "## Module 7: Exponential Smoothing\n",
    "Exercise"
   ]
  },
  {
   "cell_type": "code",
   "execution_count": 1,
   "metadata": {},
   "outputs": [
    {
     "name": "stderr",
     "output_type": "stream",
     "text": [
      "Loading required package: forecast\n",
      "Loading required package: fma\n",
      "Loading required package: expsmooth\n"
     ]
    }
   ],
   "source": [
    "library(ggplot2)\n",
    "library(fpp2)"
   ]
  },
  {
   "cell_type": "code",
   "execution_count": 5,
   "metadata": {},
   "outputs": [],
   "source": [
    "options(repr.plot.width=8, repr.plot.height=2)"
   ]
  },
  {
   "cell_type": "code",
   "execution_count": 6,
   "metadata": {},
   "outputs": [
    {
     "data": {},
     "metadata": {},
     "output_type": "display_data"
    },
    {
     "data": {
      "image/png": "[encoded data removed]",
      "text/plain": [
       "plot without title"
      ]
     },
     "metadata": {},
     "output_type": "display_data"
    }
   ],
   "source": [
    "help(pigs)\n",
    "# Monthly total number of pigs slaughtered\n",
    "autoplot(pigs)"
   ]
  },
  {
   "cell_type": "code",
   "execution_count": 8,
   "metadata": {},
   "outputs": [
    {
     "name": "stdout",
     "output_type": "stream",
     "text": [
      "\n",
      "Forecast method: Simple exponential smoothing\n",
      "\n",
      "Model Information:\n",
      "Simple exponential smoothing \n",
      "\n",
      "Call:\n",
      " ses(y = pigs, h = 4) \n",
      "\n",
      "  Smoothing parameters:\n",
      "    alpha = 0.2971 \n",
      "\n",
      "  Initial states:\n",
      "    l = 77260.0561 \n",
      "\n",
      "  sigma:  10308.58\n",
      "\n",
      "     AIC     AICc      BIC \n",
      "4462.955 4463.086 4472.665 \n",
      "\n",
      "Error measures:\n",
      "                   ME    RMSE      MAE       MPE     MAPE      MASE       ACF1\n",
      "Training set 385.8721 10253.6 7961.383 -0.922652 9.274016 0.7966249 0.01282239\n",
      "\n",
      "Forecasts:\n",
      "         Point Forecast    Lo 80    Hi 80    Lo 95    Hi 95\n",
      "Sep 1995       98816.41 85605.43 112027.4 78611.97 119020.8\n",
      "Oct 1995       98816.41 85034.52 112598.3 77738.83 119894.0\n",
      "Nov 1995       98816.41 84486.34 113146.5 76900.46 120732.4\n",
      "Dec 1995       98816.41 83958.37 113674.4 76092.99 121539.8\n"
     ]
    }
   ],
   "source": [
    "fces <- ses(pigs, h = 4)\n",
    "summary(fces)"
   ]
  },
  {
   "cell_type": "code",
   "execution_count": 10,
   "metadata": {},
   "outputs": [
    {
     "data": {
      "text/html": [
       "10273.693294987"
      ],
      "text/latex": [
       "10273.693294987"
      ],
      "text/markdown": [
       "10273.693294987"
      ],
      "text/plain": [
       "[1] 10273.69"
      ]
     },
     "metadata": {},
     "output_type": "display_data"
    },
    {
     "data": {
      "text/html": [
       "78679.9711418255"
      ],
      "text/latex": [
       "78679.9711418255"
      ],
      "text/markdown": [
       "78679.9711418255"
      ],
      "text/plain": [
       "[1] 78679.97"
      ]
     },
     "metadata": {},
     "output_type": "display_data"
    },
    {
     "data": {
      "text/html": [
       "118952.848858174"
      ],
      "text/latex": [
       "118952.848858174"
      ],
      "text/markdown": [
       "118952.848858174"
      ],
      "text/plain": [
       "[1] 118952.8"
      ]
     },
     "metadata": {},
     "output_type": "display_data"
    }
   ],
   "source": [
    "(s <- sd(residuals(fces)))\n",
    "(lo95 <- 98816.41 - 1.96*s)\n",
    "(hi95 <- 98816.41 + 1.96*s)"
   ]
  },
  {
   "cell_type": "markdown",
   "metadata": {},
   "source": [
    "My interval is smaller than the interval R computes. In ses, the variance of the forecast is $\\sigma_h^2 = \\sigma^2[1+\\alpha^2(h-1)]$. \n",
    "\n",
    "In our case, $\\sigma^2$ = "
   ]
  },
  {
   "cell_type": "code",
   "execution_count": 12,
   "metadata": {},
   "outputs": [
    {
     "data": {
      "text/html": [
       "105548773.91946"
      ],
      "text/latex": [
       "105548773.91946"
      ],
      "text/markdown": [
       "105548773.91946"
      ],
      "text/plain": [
       "[1] 105548774"
      ]
     },
     "metadata": {},
     "output_type": "display_data"
    }
   ],
   "source": [
    "(sigma2 <- var(residuals(fces)))"
   ]
  },
  {
   "cell_type": "markdown",
   "metadata": {},
   "source": [
    "$\\alpha = 0.2971$, and $h = 4$. So $\\sigma_h^2 = $"
   ]
  },
  {
   "cell_type": "code",
   "execution_count": 13,
   "metadata": {},
   "outputs": [
    {
     "data": {
      "text/html": [
       "133498641.273421"
      ],
      "text/latex": [
       "133498641.273421"
      ],
      "text/markdown": [
       "133498641.273421"
      ],
      "text/plain": [
       "[1] 133498641"
      ]
     },
     "metadata": {},
     "output_type": "display_data"
    }
   ],
   "source": [
    "(sigmah2 <- sigma2 * (1 + (0.2971^2)*3))"
   ]
  },
  {
   "cell_type": "markdown",
   "metadata": {},
   "source": [
    "So the S.D. R uses for 95% PI is "
   ]
  },
  {
   "cell_type": "code",
   "execution_count": 14,
   "metadata": {},
   "outputs": [
    {
     "data": {
      "text/html": [
       "11554.1612102922"
      ],
      "text/latex": [
       "11554.1612102922"
      ],
      "text/markdown": [
       "11554.1612102922"
      ],
      "text/plain": [
       "[1] 11554.16"
      ]
     },
     "metadata": {},
     "output_type": "display_data"
    }
   ],
   "source": [
    "sqrt(sigmah2)"
   ]
  },
  {
   "cell_type": "markdown",
   "metadata": {},
   "source": [
    "which is larger than the standard deviation of residuals $s = 10273.693294987$"
   ]
  },
  {
   "cell_type": "code",
   "execution_count": 26,
   "metadata": {},
   "outputs": [],
   "source": [
    "myses <- function (y, alpha, level){\n",
    "    t <- length(y)\n",
    "    fc <- (1 - alpha)^t * level\n",
    "    for (i in 1:t){\n",
    "        fc <- fc + alpha * (1 - alpha)^(t-i) * y[i]\n",
    "    }\n",
    "    return(fc)\n",
    "}"
   ]
  },
  {
   "cell_type": "code",
   "execution_count": 27,
   "metadata": {},
   "outputs": [
    {
     "data": {
      "text/html": [
       "98816.4543875089"
      ],
      "text/latex": [
       "98816.4543875089"
      ],
      "text/markdown": [
       "98816.4543875089"
      ],
      "text/plain": [
       "[1] 98816.45"
      ]
     },
     "metadata": {},
     "output_type": "display_data"
    }
   ],
   "source": [
    "myses(pigs, 0.2971, 77260.0561)"
   ]
  },
  {
   "cell_type": "code",
   "execution_count": 47,
   "metadata": {},
   "outputs": [],
   "source": [
    "MSE <- function (y, par){\n",
    "    alpha <- par[1]\n",
    "    level <- par[2]\n",
    "    t <- length(y)\n",
    "    fc <- ts(0, start = start(y), end = end(y), frequency = frequency(y))\n",
    "    sum <- 0\n",
    "    for (i in 1:t){\n",
    "        if (i == 1){\n",
    "            fc[i] <- level\n",
    "        }\n",
    "        else{\n",
    "            fc[i] <- alpha * y[i-1] + (1 - alpha) * fc[i-1]\n",
    "        }\n",
    "        sum <- sum + (y[i] - fc[i])^2\n",
    "    }\n",
    "    return(sum)\n",
    "}"
   ]
  },
  {
   "cell_type": "code",
   "execution_count": 52,
   "metadata": {},
   "outputs": [
    {
     "name": "stderr",
     "output_type": "stream",
     "text": [
      "ERROR while rich displaying an object: Error in vapply(seq_along(mapped), function(i) {: values must be length 1,\n",
      " but FUN(X[[5]]) result is length 0\n",
      "\n",
      "Traceback:\n",
      "1. FUN(X[[i]], ...)\n",
      "2. tryCatch(withCallingHandlers({\n",
      " .     rpr <- mime2repr[[mime]](obj)\n",
      " .     if (is.null(rpr)) \n",
      " .         return(NULL)\n",
      " .     prepare_content(is.raw(rpr), rpr)\n",
      " . }, error = error_handler), error = outer_handler)\n",
      "3. tryCatchList(expr, classes, parentenv, handlers)\n",
      "4. tryCatchOne(expr, names, parentenv, handlers[[1L]])\n",
      "5. doTryCatch(return(expr), name, parentenv, handler)\n",
      "6. withCallingHandlers({\n",
      " .     rpr <- mime2repr[[mime]](obj)\n",
      " .     if (is.null(rpr)) \n",
      " .         return(NULL)\n",
      " .     prepare_content(is.raw(rpr), rpr)\n",
      " . }, error = error_handler)\n",
      "7. mime2repr[[mime]](obj)\n",
      "8. repr_html.list(obj)\n",
      "9. repr_list_generic(obj, \"html\", \"\\t<li>%s</li>\\n\", \"\\t<dt>$%s</dt>\\n\\t\\t<dd>%s</dd>\\n\", \n",
      " .     \"<strong>$%s</strong> = %s\", \"<ol>\\n%s</ol>\\n\", \"<dl>\\n%s</dl>\\n\", \n",
      " .     numeric_item = \"\\t<dt>[[%s]]</dt>\\n\\t\\t<dd>%s</dd>\\n\", escape_fun = html_escape)\n",
      "10. vapply(seq_along(mapped), function(i) {\n",
      "  .     nm <- nms[[i]]\n",
      "  .     if (is.na(nm) || nchar(nm) == 0) {\n",
      "  .         sprintf(numeric_item, i, mapped[[i]])\n",
      "  .     }\n",
      "  .     else {\n",
      "  .         sprintf(named_item, nms[[i]], mapped[[i]])\n",
      "  .     }\n",
      "  . }, character(1))\n",
      "ERROR while rich displaying an object: Error in vapply(seq_along(mapped), function(i) {: values must be length 1,\n",
      " but FUN(X[[5]]) result is length 0\n",
      "\n",
      "Traceback:\n",
      "1. FUN(X[[i]], ...)\n",
      "2. tryCatch(withCallingHandlers({\n",
      " .     rpr <- mime2repr[[mime]](obj)\n",
      " .     if (is.null(rpr)) \n",
      " .         return(NULL)\n",
      " .     prepare_content(is.raw(rpr), rpr)\n",
      " . }, error = error_handler), error = outer_handler)\n",
      "3. tryCatchList(expr, classes, parentenv, handlers)\n",
      "4. tryCatchOne(expr, names, parentenv, handlers[[1L]])\n",
      "5. doTryCatch(return(expr), name, parentenv, handler)\n",
      "6. withCallingHandlers({\n",
      " .     rpr <- mime2repr[[mime]](obj)\n",
      " .     if (is.null(rpr)) \n",
      " .         return(NULL)\n",
      " .     prepare_content(is.raw(rpr), rpr)\n",
      " . }, error = error_handler)\n",
      "7. mime2repr[[mime]](obj)\n",
      "8. repr_markdown.list(obj)\n",
      "9. repr_list_generic(obj, \"markdown\", \"%s. %s\\n\", \"$%s\\n:   %s\\n\", \n",
      " .     \"**$%s** = %s\", \"%s\\n\\n\", numeric_item = \"[[%s]]\\n:   %s\\n\", \n",
      " .     item_uses_numbers = TRUE, escape_fun = html_escape)\n",
      "10. vapply(seq_along(mapped), function(i) {\n",
      "  .     nm <- nms[[i]]\n",
      "  .     if (is.na(nm) || nchar(nm) == 0) {\n",
      "  .         sprintf(numeric_item, i, mapped[[i]])\n",
      "  .     }\n",
      "  .     else {\n",
      "  .         sprintf(named_item, nms[[i]], mapped[[i]])\n",
      "  .     }\n",
      "  . }, character(1))\n",
      "ERROR while rich displaying an object: Error in vapply(seq_along(mapped), function(i) {: values must be length 1,\n",
      " but FUN(X[[5]]) result is length 0\n",
      "\n",
      "Traceback:\n",
      "1. FUN(X[[i]], ...)\n",
      "2. tryCatch(withCallingHandlers({\n",
      " .     rpr <- mime2repr[[mime]](obj)\n",
      " .     if (is.null(rpr)) \n",
      " .         return(NULL)\n",
      " .     prepare_content(is.raw(rpr), rpr)\n",
      " . }, error = error_handler), error = outer_handler)\n",
      "3. tryCatchList(expr, classes, parentenv, handlers)\n",
      "4. tryCatchOne(expr, names, parentenv, handlers[[1L]])\n",
      "5. doTryCatch(return(expr), name, parentenv, handler)\n",
      "6. withCallingHandlers({\n",
      " .     rpr <- mime2repr[[mime]](obj)\n",
      " .     if (is.null(rpr)) \n",
      " .         return(NULL)\n",
      " .     prepare_content(is.raw(rpr), rpr)\n",
      " . }, error = error_handler)\n",
      "7. mime2repr[[mime]](obj)\n",
      "8. repr_latex.list(obj)\n",
      "9. repr_list_generic(obj, \"latex\", \"\\\\item %s\\n\", \"\\\\item[\\\\$%s] %s\\n\", \n",
      " .     \"\\\\textbf{\\\\$%s} = %s\", enum_wrap = \"\\\\begin{enumerate}\\n%s\\\\end{enumerate}\\n\", \n",
      " .     named_wrap = \"\\\\begin{description}\\n%s\\\\end{description}\\n\", \n",
      " .     numeric_item = \"\\\\item[{[[%s]]}] %s\\n\", escape_fun = latex_escape)\n",
      "10. vapply(seq_along(mapped), function(i) {\n",
      "  .     nm <- nms[[i]]\n",
      "  .     if (is.na(nm) || nchar(nm) == 0) {\n",
      "  .         sprintf(numeric_item, i, mapped[[i]])\n",
      "  .     }\n",
      "  .     else {\n",
      "  .         sprintf(named_item, nms[[i]], mapped[[i]])\n",
      "  .     }\n",
      "  . }, character(1))\n"
     ]
    },
    {
     "data": {
      "text/plain": [
       "$par\n",
       "[1]     0.297086 77272.075070\n",
       "\n",
       "$value\n",
       "[1] 19765613447\n",
       "\n",
       "$counts\n",
       "function gradient \n",
       "     179       NA \n",
       "\n",
       "$convergence\n",
       "[1] 0\n",
       "\n",
       "$message\n",
       "NULL\n"
      ]
     },
     "metadata": {},
     "output_type": "display_data"
    },
    {
     "data": {
      "text/html": [
       "0.297085998978391"
      ],
      "text/latex": [
       "0.297085998978391"
      ],
      "text/markdown": [
       "0.297085998978391"
      ],
      "text/plain": [
       "[1] 0.297086"
      ]
     },
     "metadata": {},
     "output_type": "display_data"
    }
   ],
   "source": [
    "(opt <- optim(par = c(0,pigs[1]) , MSE, y = pigs))\n",
    "opt$par[1]"
   ]
  },
  {
   "cell_type": "code",
   "execution_count": 53,
   "metadata": {},
   "outputs": [],
   "source": [
    "fc <- function(y){\n",
    "    opt <- optim(par = c(0.5, y[1]), MSE, y = y)\n",
    "    alpha <- opt$par[1]\n",
    "    level <- opt$par[2]\n",
    "    return(myses(y, alpha, level))\n",
    "}"
   ]
  },
  {
   "cell_type": "code",
   "execution_count": 54,
   "metadata": {},
   "outputs": [
    {
     "data": {
      "text/html": [
       "98814.5529660019"
      ],
      "text/latex": [
       "98814.5529660019"
      ],
      "text/markdown": [
       "98814.5529660019"
      ],
      "text/plain": [
       "[1] 98814.55"
      ]
     },
     "metadata": {},
     "output_type": "display_data"
    }
   ],
   "source": [
    "fc(pigs)"
   ]
  },
  {
   "cell_type": "code",
   "execution_count": 55,
   "metadata": {},
   "outputs": [
    {
     "data": {},
     "metadata": {},
     "output_type": "display_data"
    },
    {
     "data": {
      "image/png": "[encoded data removed]",
      "text/plain": [
       "plot without title"
      ]
     },
     "metadata": {},
     "output_type": "display_data"
    }
   ],
   "source": [
    "autoplot(books)\n",
    "# Daily sales of books"
   ]
  },
  {
   "cell_type": "code",
   "execution_count": 57,
   "metadata": {},
   "outputs": [],
   "source": [
    "fc_paper <- ses(books[, \"Paperback\"], h = 4)\n",
    "fc_hard <- ses(books[, \"Hardcover\"], h = 4)"
   ]
  },
  {
   "cell_type": "code",
   "execution_count": 66,
   "metadata": {},
   "outputs": [
    {
     "data": {},
     "metadata": {},
     "output_type": "display_data"
    },
    {
     "data": {
      "image/png": "[encoded data removed]",
      "text/plain": [
       "plot without title"
      ]
     },
     "metadata": {},
     "output_type": "display_data"
    }
   ],
   "source": [
    "autoplot(books) +\n",
    "    autolayer(fitted(fc_paper), series = \"fit paperback\") +\n",
    "    autolayer(fc_paper, series = \"fc paperback\", PI = F) +\n",
    "    autolayer(fc_hard, series = \"fc hardcover\", PI = F)"
   ]
  },
  {
   "cell_type": "code",
   "execution_count": 63,
   "metadata": {},
   "outputs": [
    {
     "data": {
      "text/html": [
       "33.637686782912"
      ],
      "text/latex": [
       "33.637686782912"
      ],
      "text/markdown": [
       "33.637686782912"
      ],
      "text/plain": [
       "[1] 33.63769"
      ]
     },
     "metadata": {},
     "output_type": "display_data"
    }
   ],
   "source": [
    "(RMSE1 <- sqrt(mean(residuals(fc_paper)**2)))"
   ]
  },
  {
   "cell_type": "code",
   "execution_count": 64,
   "metadata": {},
   "outputs": [
    {
     "data": {
      "text/html": [
       "31.9310149844547"
      ],
      "text/latex": [
       "31.9310149844547"
      ],
      "text/markdown": [
       "31.9310149844547"
      ],
      "text/plain": [
       "[1] 31.93101"
      ]
     },
     "metadata": {},
     "output_type": "display_data"
    }
   ],
   "source": [
    "(RMSE2 <- sqrt(mean(residuals(fc_hard)**2)))"
   ]
  },
  {
   "cell_type": "code",
   "execution_count": 67,
   "metadata": {},
   "outputs": [],
   "source": [
    "holt_p <- holt(books[, \"Paperback\"], h = 4)\n",
    "holt_h <- holt(books[, \"Hardcover\"], h = 4)"
   ]
  },
  {
   "cell_type": "code",
   "execution_count": 69,
   "metadata": {},
   "outputs": [
    {
     "data": {
      "text/html": [
       "31.1369230162347"
      ],
      "text/latex": [
       "31.1369230162347"
      ],
      "text/markdown": [
       "31.1369230162347"
      ],
      "text/plain": [
       "[1] 31.13692"
      ]
     },
     "metadata": {},
     "output_type": "display_data"
    },
    {
     "data": {
      "text/html": [
       "27.1935779818511"
      ],
      "text/latex": [
       "27.1935779818511"
      ],
      "text/markdown": [
       "27.1935779818511"
      ],
      "text/plain": [
       "[1] 27.19358"
      ]
     },
     "metadata": {},
     "output_type": "display_data"
    }
   ],
   "source": [
    "(RMSEh1 <- sqrt(mean(residuals(holt_p)**2)))\n",
    "(RMSEh1 <- sqrt(mean(residuals(holt_h)**2)))"
   ]
  },
  {
   "cell_type": "code",
   "execution_count": 70,
   "metadata": {},
   "outputs": [
    {
     "data": {},
     "metadata": {},
     "output_type": "display_data"
    },
    {
     "data": {
      "image/png": "[encoded data removed]",
      "text/plain": [
       "plot without title"
      ]
     },
     "metadata": {},
     "output_type": "display_data"
    }
   ],
   "source": [
    "autoplot(books) +\n",
    "    autolayer(fitted(holt_p), series = \"holt fit paperback\") +\n",
    "    autolayer(holt_p, series = \"holt fc paperback\", PI = F) +\n",
    "    autolayer(holt_h, series = \"holt fc hardcover\", PI = F)"
   ]
  },
  {
   "cell_type": "code",
   "execution_count": null,
   "metadata": {},
   "outputs": [],
   "source": []
  }
 ],
 "metadata": {
  "kernelspec": {
   "display_name": "R",
   "language": "R",
   "name": "ir"
  },
  "language_info": {
   "codemirror_mode": "r",
   "file_extension": ".r",
   "mimetype": "text/x-r-source",
   "name": "R",
   "pygments_lexer": "r",
   "version": "3.5.0"
  }
 },
 "nbformat": 4,
 "nbformat_minor": 2
}
