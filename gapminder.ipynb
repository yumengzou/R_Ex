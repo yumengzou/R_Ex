{
 "cells": [
  {
   "cell_type": "markdown",
   "metadata": {},
   "source": [
    "# gapminder dataset\n",
    "\n",
    "using dplyr"
   ]
  },
  {
   "cell_type": "code",
   "execution_count": 8,
   "metadata": {},
   "outputs": [],
   "source": [
    "library(gapminder)\n",
    "library(dplyr)\n",
    "library(ggplot2)"
   ]
  },
  {
   "cell_type": "code",
   "execution_count": 9,
   "metadata": {},
   "outputs": [
    {
     "data": {
      "text/html": [
       "<table>\n",
       "<thead><tr><th scope=col>country</th><th scope=col>continent</th><th scope=col>year</th><th scope=col>lifeExp</th><th scope=col>pop</th><th scope=col>gdpPercap</th></tr></thead>\n",
       "<tbody>\n",
       "\t<tr><td>Afghanistan</td><td>Asia       </td><td>1952       </td><td>28.801     </td><td> 8425333   </td><td>779.4453   </td></tr>\n",
       "\t<tr><td>Afghanistan</td><td>Asia       </td><td>1957       </td><td>30.332     </td><td> 9240934   </td><td>820.8530   </td></tr>\n",
       "\t<tr><td>Afghanistan</td><td>Asia       </td><td>1962       </td><td>31.997     </td><td>10267083   </td><td>853.1007   </td></tr>\n",
       "\t<tr><td>Afghanistan</td><td>Asia       </td><td>1967       </td><td>34.020     </td><td>11537966   </td><td>836.1971   </td></tr>\n",
       "\t<tr><td>Afghanistan</td><td>Asia       </td><td>1972       </td><td>36.088     </td><td>13079460   </td><td>739.9811   </td></tr>\n",
       "\t<tr><td>Afghanistan</td><td>Asia       </td><td>1977       </td><td>38.438     </td><td>14880372   </td><td>786.1134   </td></tr>\n",
       "</tbody>\n",
       "</table>\n"
      ],
      "text/latex": [
       "\\begin{tabular}{r|llllll}\n",
       " country & continent & year & lifeExp & pop & gdpPercap\\\\\n",
       "\\hline\n",
       "\t Afghanistan & Asia        & 1952        & 28.801      &  8425333    & 779.4453   \\\\\n",
       "\t Afghanistan & Asia        & 1957        & 30.332      &  9240934    & 820.8530   \\\\\n",
       "\t Afghanistan & Asia        & 1962        & 31.997      & 10267083    & 853.1007   \\\\\n",
       "\t Afghanistan & Asia        & 1967        & 34.020      & 11537966    & 836.1971   \\\\\n",
       "\t Afghanistan & Asia        & 1972        & 36.088      & 13079460    & 739.9811   \\\\\n",
       "\t Afghanistan & Asia        & 1977        & 38.438      & 14880372    & 786.1134   \\\\\n",
       "\\end{tabular}\n"
      ],
      "text/markdown": [
       "\n",
       "country | continent | year | lifeExp | pop | gdpPercap | \n",
       "|---|---|---|---|---|---|\n",
       "| Afghanistan | Asia        | 1952        | 28.801      |  8425333    | 779.4453    | \n",
       "| Afghanistan | Asia        | 1957        | 30.332      |  9240934    | 820.8530    | \n",
       "| Afghanistan | Asia        | 1962        | 31.997      | 10267083    | 853.1007    | \n",
       "| Afghanistan | Asia        | 1967        | 34.020      | 11537966    | 836.1971    | \n",
       "| Afghanistan | Asia        | 1972        | 36.088      | 13079460    | 739.9811    | \n",
       "| Afghanistan | Asia        | 1977        | 38.438      | 14880372    | 786.1134    | \n",
       "\n",
       "\n"
      ],
      "text/plain": [
       "  country     continent year lifeExp pop      gdpPercap\n",
       "1 Afghanistan Asia      1952 28.801   8425333 779.4453 \n",
       "2 Afghanistan Asia      1957 30.332   9240934 820.8530 \n",
       "3 Afghanistan Asia      1962 31.997  10267083 853.1007 \n",
       "4 Afghanistan Asia      1967 34.020  11537966 836.1971 \n",
       "5 Afghanistan Asia      1972 36.088  13079460 739.9811 \n",
       "6 Afghanistan Asia      1977 38.438  14880372 786.1134 "
      ]
     },
     "metadata": {},
     "output_type": "display_data"
    }
   ],
   "source": [
    "head(gapminder)"
   ]
  },
  {
   "cell_type": "code",
   "execution_count": 10,
   "metadata": {},
   "outputs": [
    {
     "data": {
      "text/html": [
       "<table>\n",
       "<thead><tr><th scope=col>country</th><th scope=col>continent</th><th scope=col>year</th><th scope=col>lifeExp</th><th scope=col>pop</th><th scope=col>gdpPercap</th><th scope=col>gdp</th></tr></thead>\n",
       "<tbody>\n",
       "\t<tr><td>United States </td><td>Americas      </td><td>2007          </td><td>78.242        </td><td> 301139947    </td><td>42951.653     </td><td>12934459      </td></tr>\n",
       "\t<tr><td>China         </td><td>Asia          </td><td>2007          </td><td>72.961        </td><td>1318683096    </td><td> 4959.115     </td><td> 6539501      </td></tr>\n",
       "\t<tr><td>Japan         </td><td>Asia          </td><td>2007          </td><td>82.603        </td><td> 127467972    </td><td>31656.068     </td><td> 4035135      </td></tr>\n",
       "\t<tr><td>India         </td><td>Asia          </td><td>2007          </td><td>64.698        </td><td>1110396331    </td><td> 2452.210     </td><td> 2722925      </td></tr>\n",
       "\t<tr><td>Germany       </td><td>Europe        </td><td>2007          </td><td>79.406        </td><td>  82400996    </td><td>32170.374     </td><td> 2650871      </td></tr>\n",
       "\t<tr><td>United Kingdom</td><td>Europe        </td><td>2007          </td><td>79.425        </td><td>  60776238    </td><td>33203.261     </td><td> 2017969      </td></tr>\n",
       "</tbody>\n",
       "</table>\n"
      ],
      "text/latex": [
       "\\begin{tabular}{r|lllllll}\n",
       " country & continent & year & lifeExp & pop & gdpPercap & gdp\\\\\n",
       "\\hline\n",
       "\t United States  & Americas       & 2007           & 78.242         &  301139947     & 42951.653      & 12934459      \\\\\n",
       "\t China          & Asia           & 2007           & 72.961         & 1318683096     &  4959.115      &  6539501      \\\\\n",
       "\t Japan          & Asia           & 2007           & 82.603         &  127467972     & 31656.068      &  4035135      \\\\\n",
       "\t India          & Asia           & 2007           & 64.698         & 1110396331     &  2452.210      &  2722925      \\\\\n",
       "\t Germany        & Europe         & 2007           & 79.406         &   82400996     & 32170.374      &  2650871      \\\\\n",
       "\t United Kingdom & Europe         & 2007           & 79.425         &   60776238     & 33203.261      &  2017969      \\\\\n",
       "\\end{tabular}\n"
      ],
      "text/markdown": [
       "\n",
       "country | continent | year | lifeExp | pop | gdpPercap | gdp | \n",
       "|---|---|---|---|---|---|\n",
       "| United States  | Americas       | 2007           | 78.242         |  301139947     | 42951.653      | 12934459       | \n",
       "| China          | Asia           | 2007           | 72.961         | 1318683096     |  4959.115      |  6539501       | \n",
       "| Japan          | Asia           | 2007           | 82.603         |  127467972     | 31656.068      |  4035135       | \n",
       "| India          | Asia           | 2007           | 64.698         | 1110396331     |  2452.210      |  2722925       | \n",
       "| Germany        | Europe         | 2007           | 79.406         |   82400996     | 32170.374      |  2650871       | \n",
       "| United Kingdom | Europe         | 2007           | 79.425         |   60776238     | 33203.261      |  2017969       | \n",
       "\n",
       "\n"
      ],
      "text/plain": [
       "  country        continent year lifeExp pop        gdpPercap gdp     \n",
       "1 United States  Americas  2007 78.242   301139947 42951.653 12934459\n",
       "2 China          Asia      2007 72.961  1318683096  4959.115  6539501\n",
       "3 Japan          Asia      2007 82.603   127467972 31656.068  4035135\n",
       "4 India          Asia      2007 64.698  1110396331  2452.210  2722925\n",
       "5 Germany        Europe    2007 79.406    82400996 32170.374  2650871\n",
       "6 United Kingdom Europe    2007 79.425    60776238 33203.261  2017969"
      ]
     },
     "metadata": {},
     "output_type": "display_data"
    }
   ],
   "source": [
    "head(gapminder %>%\n",
    "    mutate(gdp = gdpPercap * pop / 1000000) %>%\n",
    "        filter(year == 2007) %>%\n",
    "            arrange(desc(gdp)))"
   ]
  },
  {
   "cell_type": "code",
   "execution_count": 16,
   "metadata": {},
   "outputs": [],
   "source": [
    "options(repr.plot.width=8, repr.plot.height=6)"
   ]
  },
  {
   "cell_type": "code",
   "execution_count": 17,
   "metadata": {},
   "outputs": [
    {
     "data": {},
     "metadata": {},
     "output_type": "display_data"
    },
    {
     "data": {
      "image/png": "[encoded data removed]",
      "text/plain": [
       "plot without title"
      ]
     },
     "metadata": {},
     "output_type": "display_data"
    }
   ],
   "source": [
    "ggplot(gapminder, aes(x = gdpPercap, y = lifeExp, color = continent, size = pop)) +\n",
    "    geom_point() +\n",
    "    scale_x_log10() +\n",
    "    facet_wrap(~ year)"
   ]
  },
  {
   "cell_type": "code",
   "execution_count": 13,
   "metadata": {},
   "outputs": [
    {
     "data": {
      "text/html": [
       "<table>\n",
       "<thead><tr><th scope=col>continent</th><th scope=col>year</th><th scope=col>medianGdpPercap</th></tr></thead>\n",
       "<tbody>\n",
       "\t<tr><td>Africa   </td><td>1952     </td><td> 987.0256</td></tr>\n",
       "\t<tr><td>Africa   </td><td>1957     </td><td>1024.0230</td></tr>\n",
       "\t<tr><td>Africa   </td><td>1962     </td><td>1133.7837</td></tr>\n",
       "\t<tr><td>Africa   </td><td>1967     </td><td>1210.3764</td></tr>\n",
       "\t<tr><td>Africa   </td><td>1972     </td><td>1443.3725</td></tr>\n",
       "\t<tr><td>Africa   </td><td>1977     </td><td>1399.6388</td></tr>\n",
       "</tbody>\n",
       "</table>\n"
      ],
      "text/latex": [
       "\\begin{tabular}{r|lll}\n",
       " continent & year & medianGdpPercap\\\\\n",
       "\\hline\n",
       "\t Africa    & 1952      &  987.0256\\\\\n",
       "\t Africa    & 1957      & 1024.0230\\\\\n",
       "\t Africa    & 1962      & 1133.7837\\\\\n",
       "\t Africa    & 1967      & 1210.3764\\\\\n",
       "\t Africa    & 1972      & 1443.3725\\\\\n",
       "\t Africa    & 1977      & 1399.6388\\\\\n",
       "\\end{tabular}\n"
      ],
      "text/markdown": [
       "\n",
       "continent | year | medianGdpPercap | \n",
       "|---|---|---|---|---|---|\n",
       "| Africa    | 1952      |  987.0256 | \n",
       "| Africa    | 1957      | 1024.0230 | \n",
       "| Africa    | 1962      | 1133.7837 | \n",
       "| Africa    | 1967      | 1210.3764 | \n",
       "| Africa    | 1972      | 1443.3725 | \n",
       "| Africa    | 1977      | 1399.6388 | \n",
       "\n",
       "\n"
      ],
      "text/plain": [
       "  continent year medianGdpPercap\n",
       "1 Africa    1952  987.0256      \n",
       "2 Africa    1957 1024.0230      \n",
       "3 Africa    1962 1133.7837      \n",
       "4 Africa    1967 1210.3764      \n",
       "5 Africa    1972 1443.3725      \n",
       "6 Africa    1977 1399.6388      "
      ]
     },
     "metadata": {},
     "output_type": "display_data"
    }
   ],
   "source": [
    "by_continent <- gapminder %>%\n",
    "    group_by(continent, year) %>%\n",
    "    summarize(medianGdpPercap = median(gdpPercap))\n",
    "head(by_continent)"
   ]
  },
  {
   "cell_type": "code",
   "execution_count": 18,
   "metadata": {},
   "outputs": [],
   "source": [
    "options(repr.plot.width=6, repr.plot.height=4)"
   ]
  },
  {
   "cell_type": "code",
   "execution_count": 19,
   "metadata": {},
   "outputs": [
    {
     "data": {},
     "metadata": {},
     "output_type": "display_data"
    },
    {
     "data": {
      "image/png": "[encoded data removed]",
      "text/plain": [
       "plot without title"
      ]
     },
     "metadata": {},
     "output_type": "display_data"
    }
   ],
   "source": [
    "ggplot(by_continent, aes(x = year, y = medianGdpPercap, color = continent)) +\n",
    "    geom_line()"
   ]
  },
  {
   "cell_type": "code",
   "execution_count": null,
   "metadata": {},
   "outputs": [],
   "source": []
  }
 ],
 "metadata": {
  "kernelspec": {
   "display_name": "R",
   "language": "R",
   "name": "ir"
  },
  "language_info": {
   "codemirror_mode": "r",
   "file_extension": ".r",
   "mimetype": "text/x-r-source",
   "name": "R",
   "pygments_lexer": "r",
   "version": "3.5.0"
  }
 },
 "nbformat": 4,
 "nbformat_minor": 2
}
